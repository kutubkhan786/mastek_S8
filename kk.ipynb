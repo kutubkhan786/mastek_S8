{
 "cells": [
  {
   "cell_type": "markdown",
   "metadata": {},
   "source": [
    "# Speaker Recognition\n",
    "\n",
    "Term project for Machine Learning UoT course\n",
    "\n",
    "The objective of this Notebook is to predict the speaker of an English digit using a Keras model.\n",
    "\n",
    "This Notebook has three main sections.\n",
    "1. Extract the features of the WAV files, save them into CSV files and store them into Pandas\n",
    "2. The model will be trained based on the data set created by https://github.com/Jakobovski/free-spoken-digit-dataset\n",
    "3. The model will be re-trained based on the previous data plus the recordings made by Ankor (Indian accent), Caroline (Canadian female child accent) and Rodolfo (Brazilian accent)"
   ]
  },
  {
   "cell_type": "code",
   "execution_count": null,
   "metadata": {},
   "outputs": [],
   "source": []
  },
  {
   "cell_type": "markdown",
   "metadata": {},
   "source": [
    "## Section 1\n",
    "\n",
    "The output of this section is the CSV files with the data to be handle by the model\n",
    "\n",
    "```\n",
    "trainData     : ../data/recordings/train \n",
    "testData      : ../data/recordings/test\n",
    "moreTrainData : ../data/recordings/moreSpeakersTrain\n",
    "moreTestData  : ../data/recordings/moreSpeakersTest\n",
    "```\n"
   ]
  },
  {
   "cell_type": "code",
   "execution_count": 1,
   "metadata": {},
   "outputs": [],
   "source": [
    "# If true, the WAV files will be read and their features will be saved in the CSV files\n",
    "# As this is the most time consuming task, only enable it if you don't have the CSV files yet\n",
    "CREATE_CSV_FILES = True"
   ]
  },
  {
   "cell_type": "code",
   "execution_count": 2,
   "metadata": {},
   "outputs": [],
   "source": [
    "# Defines the names of the CSV files\n",
    "TRAIN_CSV_FILE = \"train.csv\"\n",
    "TEST_CSV_FILE = \"test.csv\"\n",
    "MORE_TRAIN_CSV_FILE = \"more_train.csv\"\n",
    "MORE_TEST_CSV_FILE = \"more_test.csv\"\n"
   ]
  },
  {
   "cell_type": "code",
   "execution_count": 3,
   "metadata": {
    "colab": {
     "base_uri": "https://localhost:8080/",
     "height": 71
    },
    "colab_type": "code",
    "id": "FIUhv3GI8FOF",
    "outputId": "5adb2545-0d54-4494-c1bb-6fbb9f69ed45"
   },
   "outputs": [
    {
     "name": "stdout",
     "output_type": "stream",
     "text": [
      "The features of the files in the folder ../data/recordings/train will be saved to train.csv\n",
      "CSV Header:  ['filename', 'chroma_stft', 'rmse', 'spectral_centroid', 'spectral_bandwidth', 'rolloff', 'zero_crossing_rate', 'mfcc1', 'mfcc2', 'mfcc3', 'mfcc4', 'mfcc5', 'mfcc6', 'mfcc7', 'mfcc8', 'mfcc9', 'mfcc10', 'mfcc11', 'mfcc12', 'mfcc13', 'mfcc14', 'mfcc15', 'mfcc16', 'mfcc17', 'mfcc18', 'mfcc19', 'mfcc20', 'label']\n",
      "End of extractWavFeatures\n",
      "The features of the files in the folder ../data/recordings/test will be saved to test.csv\n",
      "CSV Header:  ['filename', 'chroma_stft', 'rmse', 'spectral_centroid', 'spectral_bandwidth', 'rolloff', 'zero_crossing_rate', 'mfcc1', 'mfcc2', 'mfcc3', 'mfcc4', 'mfcc5', 'mfcc6', 'mfcc7', 'mfcc8', 'mfcc9', 'mfcc10', 'mfcc11', 'mfcc12', 'mfcc13', 'mfcc14', 'mfcc15', 'mfcc16', 'mfcc17', 'mfcc18', 'mfcc19', 'mfcc20', 'label']\n",
      "End of extractWavFeatures\n",
      "The features of the files in the folder ../data/recordings/moreSpeakersTrain will be saved to more_train.csv\n",
      "CSV Header:  ['filename', 'chroma_stft', 'rmse', 'spectral_centroid', 'spectral_bandwidth', 'rolloff', 'zero_crossing_rate', 'mfcc1', 'mfcc2', 'mfcc3', 'mfcc4', 'mfcc5', 'mfcc6', 'mfcc7', 'mfcc8', 'mfcc9', 'mfcc10', 'mfcc11', 'mfcc12', 'mfcc13', 'mfcc14', 'mfcc15', 'mfcc16', 'mfcc17', 'mfcc18', 'mfcc19', 'mfcc20', 'label']\n",
      "End of extractWavFeatures\n",
      "The features of the files in the folder ../data/recordings/moreSpeakersTest will be saved to more_test.csv\n",
      "CSV Header:  ['filename', 'chroma_stft', 'rmse', 'spectral_centroid', 'spectral_bandwidth', 'rolloff', 'zero_crossing_rate', 'mfcc1', 'mfcc2', 'mfcc3', 'mfcc4', 'mfcc5', 'mfcc6', 'mfcc7', 'mfcc8', 'mfcc9', 'mfcc10', 'mfcc11', 'mfcc12', 'mfcc13', 'mfcc14', 'mfcc15', 'mfcc16', 'mfcc17', 'mfcc18', 'mfcc19', 'mfcc20', 'label']\n",
      "End of extractWavFeatures\n",
      "CSV files are created\n"
     ]
    }
   ],
   "source": [
    "import matplotlib.pyplot as plt\n",
    "import numpy as np\n",
    "from matplotlib import cm\n",
    "import librosa\n",
    "import csv\n",
    "import os\n",
    "\n",
    "def extractWavFeatures(soundFilesFolder, csvFileName):\n",
    "    print(\"The features of the files in the folder \"+soundFilesFolder+\" will be saved to \"+csvFileName)\n",
    "    header = 'filename chroma_stft rmse spectral_centroid spectral_bandwidth rolloff zero_crossing_rate'\n",
    "    for i in range(1, 21):\n",
    "        header += f' mfcc{i}'\n",
    "    header += ' label'\n",
    "    header = header.split()\n",
    "    print('CSV Header: ', header)\n",
    "    file = open(csvFileName, 'w', newline='')\n",
    "    #with file:\n",
    "    writer = csv.writer(file)\n",
    "    writer.writerow(header)\n",
    "    genres = '1 2 3 4 5 6 7 8 9 0'.split()\n",
    "    for filename in os.listdir(soundFilesFolder):\n",
    "        number = f'{soundFilesFolder}/{filename}'\n",
    "        y, sr = librosa.load(number, mono=True, duration=30)\n",
    "        # remove leading and trailing silence\n",
    "        y, index = librosa.effects.trim(y)\n",
    "        chroma_stft = librosa.feature.chroma_stft(y=y, sr=sr)\n",
    "        rmse = librosa.feature.rms(y=y)\n",
    "        spec_cent = librosa.feature.spectral_centroid(y=y, sr=sr)\n",
    "        spec_bw = librosa.feature.spectral_bandwidth(y=y, sr=sr)\n",
    "        rolloff = librosa.feature.spectral_rolloff(y=y, sr=sr)\n",
    "        zcr = librosa.feature.zero_crossing_rate(y)\n",
    "        mfcc = librosa.feature.mfcc(y=y, sr=sr)\n",
    "        to_append = f'{filename} {np.mean(chroma_stft)} {np.mean(rmse)} {np.mean(spec_cent)} {np.mean(spec_bw)} {np.mean(rolloff)} {np.mean(zcr)}'\n",
    "        for e in mfcc:\n",
    "            to_append += f' {np.mean(e)}'\n",
    "        writer.writerow(to_append.split())\n",
    "    file.close()\n",
    "    print(\"End of extractWavFeatures\")\n",
    "\n",
    "if (CREATE_CSV_FILES == True):\n",
    "    extractWavFeatures(\"../data/recordings/train\", TRAIN_CSV_FILE)\n",
    "    extractWavFeatures(\"../data/recordings/test\", TEST_CSV_FILE)\n",
    "    extractWavFeatures(\"../data/recordings/moreSpeakersTrain\", MORE_TRAIN_CSV_FILE)\n",
    "    extractWavFeatures(\"../data/recordings/moreSpeakersTest\", MORE_TEST_CSV_FILE)\n",
    "    print(\"CSV files are created\")\n",
    "else:\n",
    "    print(\"CSV files creation is skipped\")"
   ]
  },
  {
   "cell_type": "code",
   "execution_count": 4,
   "metadata": {
    "colab": {
     "base_uri": "https://localhost:8080/",
     "height": 223
    },
    "colab_type": "code",
    "id": "_TZXrWYiNqCj",
    "outputId": "7d1d926e-64fa-4855-df66-207a97778915"
   },
   "outputs": [
    {
     "name": "stdout",
     "output_type": "stream",
     "text": [
      "train.csv will be preprocessed\n",
      "Preprocessing is finished\n",
      "       rmse  spectral_centroid  spectral_bandwidth      rolloff  \\\n",
      "0  0.112672         741.829081          758.492178  1438.494873   \n",
      "1  0.090344         635.610880          670.336296  1160.452403   \n",
      "2  0.091456         667.786694          732.606545  1257.180176   \n",
      "3  0.087751         712.304185          731.292437  1449.104818   \n",
      "4  0.096603         844.363886          777.868127  1569.583263   \n",
      "\n",
      "   zero_crossing_rate       mfcc1       mfcc2      mfcc3      mfcc4  \\\n",
      "0            0.034023 -295.578461  189.853683 -19.606564   6.078507   \n",
      "1            0.033458 -339.148743  204.005249  -7.485526  14.297898   \n",
      "2            0.033268 -327.507416  195.596924  -3.994768  21.315840   \n",
      "3            0.035916 -320.809937  200.023743  -8.186146  12.661074   \n",
      "4            0.049465 -315.801300  195.674118 -13.324564   3.544238   \n",
      "\n",
      "       mfcc5  ...     mfcc12    mfcc13     mfcc14     mfcc15    mfcc16  \\\n",
      "0  22.067095  ... -25.725817 -5.172223  -8.323026 -10.299589 -0.144793   \n",
      "1  20.885136  ... -23.196365 -1.290891  -5.515564 -15.416287  0.405876   \n",
      "2  18.372593  ... -18.677113 -3.098450 -10.447586 -10.053793  3.248016   \n",
      "3  15.654718  ... -20.832333 -1.118007  -6.681235 -11.685319  2.010999   \n",
      "4  12.279986  ... -18.158249  6.031695  -6.353736 -15.983871  1.465030   \n",
      "\n",
      "      mfcc17     mfcc18    mfcc19     mfcc20  number  \n",
      "0  -9.017329  -4.569392  2.881349 -15.627436       0  \n",
      "1  -3.624587 -11.204143 -0.096359  -6.751650       0  \n",
      "2 -11.686995 -10.726046  6.857377  -9.067446       0  \n",
      "3  -5.946658  -6.905020  4.136240  -9.614882       0  \n",
      "4  -5.109472  -8.666434  5.026890  -5.346444       0  \n",
      "\n",
      "[5 rows x 26 columns]\n",
      "test.csv will be preprocessed\n",
      "Preprocessing is finished\n",
      "       rmse  spectral_centroid  spectral_bandwidth      rolloff  \\\n",
      "0  0.095394         756.450712          761.875940  1463.941148   \n",
      "1  0.040176         791.046914         1039.695939  2027.709961   \n",
      "2  0.006984         958.934867          941.639039  2084.106445   \n",
      "3  0.071547         759.877794          899.957003  1427.553489   \n",
      "4  0.030382         968.793389         1024.834851  1911.968994   \n",
      "\n",
      "   zero_crossing_rate       mfcc1       mfcc2      mfcc3      mfcc4  \\\n",
      "0            0.037296 -328.263885  180.479416  -0.485355  15.525293   \n",
      "1            0.031440 -385.602570  189.328186 -37.268154  59.937920   \n",
      "2            0.040039 -542.812622  217.971329 -62.197266  21.537390   \n",
      "3            0.030429 -355.530396  204.388977 -20.676432  26.671131   \n",
      "4            0.045654 -376.499390  237.137833 -59.964413  37.715607   \n",
      "\n",
      "       mfcc5  ...     mfcc12     mfcc13     mfcc14     mfcc15     mfcc16  \\\n",
      "0  20.992447  ... -15.426966   7.284101  -6.443027 -13.377846  -2.407696   \n",
      "1  45.049831  ... -31.051588   3.420474  -9.762264 -11.220519  12.306476   \n",
      "2  37.756233  ... -26.797358   5.341060 -12.159102 -14.180812   9.346475   \n",
      "3  15.797892  ... -18.198524   4.029843 -10.552087 -21.039103  -5.634320   \n",
      "4  21.510382  ... -21.805593  13.740063  -6.738161  -9.305484  13.205662   \n",
      "\n",
      "      mfcc17     mfcc18    mfcc19     mfcc20  number  \n",
      "0 -12.902534 -10.437113 -1.025342 -15.457672       0  \n",
      "1  -5.082399  -3.775387  9.707520  -8.757109       1  \n",
      "2 -10.899978  -9.715154  5.997578 -12.574761       2  \n",
      "3 -14.788965 -11.016036 -1.313916 -16.993853       0  \n",
      "4 -11.917943  -7.877903  9.777577 -10.397771       1  \n",
      "\n",
      "[5 rows x 26 columns]\n",
      "more_train.csv will be preprocessed\n",
      "Preprocessing is finished\n",
      "       rmse  spectral_centroid  spectral_bandwidth      rolloff  \\\n",
      "0  0.039759        1358.208628         1890.243941  2540.917969   \n",
      "1  0.302424         879.994019         1137.986581  1826.501859   \n",
      "2  0.026959        1237.544903         1219.890113  2372.379244   \n",
      "3  0.027274        1523.814892         2030.693021  3053.946533   \n",
      "4  0.304633         625.579402          799.806332  1029.825439   \n",
      "\n",
      "   zero_crossing_rate       mfcc1       mfcc2      mfcc3      mfcc4  \\\n",
      "0            0.093363 -349.631744  135.204880  19.397516  12.044560   \n",
      "1            0.031423 -225.136642  150.581146 -11.930015   5.277394   \n",
      "2            0.059871 -378.096527  180.817047 -41.006123  22.502394   \n",
      "3            0.084253 -403.760406  127.670433  23.293980   7.495267   \n",
      "4            0.023584 -228.231903  191.904144   1.268919  17.871376   \n",
      "\n",
      "       mfcc5  ...     mfcc12     mfcc13     mfcc14     mfcc15     mfcc16  \\\n",
      "0  -8.521679  ... -12.872719  -3.118359  -4.095297  -8.339793  -4.422189   \n",
      "1 -16.297689  ... -13.114679 -13.413434 -17.883400 -17.694012 -18.091360   \n",
      "2  -8.963315  ... -32.601864  -4.715013  -8.889856 -11.225335 -10.951420   \n",
      "3  -6.774144  ...  -6.803737  -3.132436  -2.999972 -14.086405  -9.653265   \n",
      "4  -4.571987  ...  -5.878148  -9.646009 -15.565687 -17.903820 -14.293053   \n",
      "\n",
      "      mfcc17     mfcc18     mfcc19     mfcc20  number  \n",
      "0  -2.988979  -0.864654  -4.008632   3.243911       3  \n",
      "1 -14.684992 -16.672678 -10.986701 -10.445865       4  \n",
      "2  -8.972343  -4.716431  -5.655877  -7.133625       5  \n",
      "3  -7.696736  -2.747038 -11.928693  -4.345026       3  \n",
      "4 -14.907639  -9.752651 -10.333107  -7.938378       4  \n",
      "\n",
      "[5 rows x 26 columns]\n",
      "more_test.csv will be preprocessed\n",
      "Preprocessing is finished\n",
      "       rmse  spectral_centroid  spectral_bandwidth      rolloff  \\\n",
      "0  0.070496        1736.761057         1697.429353  2782.932447   \n",
      "1  0.178100         986.240750         1243.094994  2207.479581   \n",
      "2  0.159381        1140.769641         1151.467042  2283.347731   \n",
      "3  0.102912        1270.788895         1624.572386  2442.362154   \n",
      "4  0.243922         839.268659          985.135107  1423.724724   \n",
      "\n",
      "   zero_crossing_rate       mfcc1       mfcc2      mfcc3      mfcc4  \\\n",
      "0            0.095979 -270.462311  120.525047 -16.563780  25.340765   \n",
      "1            0.045351 -230.533142  171.157135  -5.515658  20.675375   \n",
      "2            0.056547 -261.164734  169.949051 -12.116495   0.249355   \n",
      "3            0.055965 -264.190643  154.578873  -9.901300   1.276820   \n",
      "4            0.037626 -191.595886  189.683578 -29.157555  16.972124   \n",
      "\n",
      "       mfcc5  ...     mfcc12    mfcc13     mfcc14     mfcc15     mfcc16  \\\n",
      "0  -8.705835  ... -20.140141 -1.016966 -11.883263  -8.389129  -4.095136   \n",
      "1  -3.108402  ... -14.097899 -9.547957  -9.970568 -15.526528 -17.028362   \n",
      "2   8.262510  ... -26.140615 -3.177802  -5.860640 -14.931437 -12.212286   \n",
      "3  -4.987144  ...  -9.880266 -0.010168 -10.896443  -5.682155  -0.433506   \n",
      "4 -13.665516  ... -14.553379 -6.711682 -15.045198 -11.206120 -11.227142   \n",
      "\n",
      "      mfcc17     mfcc18     mfcc19     mfcc20  number  \n",
      "0   2.231521  -6.269879  -7.276823   0.429325       3  \n",
      "1 -13.014733  -9.094010   1.289093  -5.188507       4  \n",
      "2  -5.934423  -2.185390  -7.319934 -12.082070       5  \n",
      "3   6.786911 -10.947194 -11.484864  -0.297753       3  \n",
      "4  -9.380514 -11.611271  -7.099937  -6.555156       4  \n",
      "\n",
      "[5 rows x 26 columns]\n"
     ]
    }
   ],
   "source": [
    "#Reading a dataset and convert file name to corresbonding umnber\n",
    "\n",
    "import pandas as pd\n",
    "import csv\n",
    "from sklearn import preprocessing\n",
    "\n",
    "def preProcessData(csvFileName):\n",
    "    print(csvFileName+ \" will be preprocessed\")\n",
    "    data = pd.read_csv(csvFileName)\n",
    "    # we have six speakers: \n",
    "    # 0: Jackson\n",
    "    # 1: Nicolas \n",
    "    # 2: Theo\n",
    "    # 3: Ankur\n",
    "    # 4: Caroline\n",
    "    # 5: Rodolfo\n",
    "    filenameArray = data['filename'] \n",
    "    speakerArray = []\n",
    "    #print(filenameArray)\n",
    "    for i in range(len(filenameArray)):\n",
    "        speaker = filenameArray[i][2]\n",
    "        #print(speaker)\n",
    "        if speaker == \"j\":\n",
    "            speaker = \"0\"\n",
    "        elif speaker == \"n\":\n",
    "            speaker = \"1\"\n",
    "        elif speaker == \"t\":\n",
    "            speaker = \"2\"\n",
    "        elif speaker == \"a\":\n",
    "            speaker = \"3\"\n",
    "        elif speaker == \"c\":\n",
    "            speaker = \"4\"\n",
    "        elif speaker == \"r\":\n",
    "            speaker = \"5\"\n",
    "        else: \n",
    "            speaker = \"6\"\n",
    "        #print(speaker)\n",
    "        speakerArray.append(speaker)\n",
    "    data['number'] = speakerArray\n",
    "    #Dropping unnecessary columns\n",
    "    data = data.drop(['filename'],axis=1)\n",
    "    data = data.drop(['label'],axis=1)\n",
    "    data = data.drop(['chroma_stft'],axis=1)\n",
    "    data.shape\n",
    "\n",
    "    print(\"Preprocessing is finished\")\n",
    "    print(data.head())\n",
    "    return data\n",
    "\n",
    "trainData = preProcessData(TRAIN_CSV_FILE)\n",
    "testData = preProcessData(TEST_CSV_FILE)\n",
    "moreTrainData = preProcessData(MORE_TRAIN_CSV_FILE)\n",
    "moreTestData = preProcessData(MORE_TEST_CSV_FILE)\n"
   ]
  },
  {
   "cell_type": "code",
   "execution_count": null,
   "metadata": {
    "colab_type": "text",
    "id": "GPbfaLTrap87"
   },
   "outputs": [],
   "source": []
  },
  {
   "cell_type": "markdown",
   "metadata": {},
   "source": [
    "## Section 2\n",
    "\n",
    "There are 50 recordings for each digit for each speaker: Jackson, Nicolas and Theo (total 1500 recordings)\n",
    "\n",
    "Training data has 49 recordings for each digit for each speaker: 1470 recordings total.\n",
    "Test data has 1 recordings for each digit for each speaker: 30 recordings total.\n",
    "\n",
    "The data used here comes from the recordings stored in:\n",
    "* ../data/recordings/train\n",
    "* ../data/recordings/test\n",
    "\n",
    "The model will be trained to predict the speker of a digit."
   ]
  },
  {
   "cell_type": "code",
   "execution_count": 5,
   "metadata": {
    "colab": {},
    "colab_type": "code",
    "id": "UEy6oG8RQmnN"
   },
   "outputs": [
    {
     "name": "stdout",
     "output_type": "stream",
     "text": [
      "Y from training data: (1029,)\n",
      "Y from validation data: (441,)\n",
      "Y from test data: (30,)\n"
     ]
    }
   ],
   "source": [
    "# Splitting the dataset into training, validation and testing dataset\n",
    "from sklearn.model_selection import train_test_split\n",
    "X = np.array(trainData.iloc[:, :-1], dtype = float)\n",
    "y = trainData.iloc[:, -1]\n",
    "X_train, X_val, y_train, y_val = train_test_split(X, y, test_size=0.3, random_state=42)\n",
    "\n",
    "\n",
    "X_test = np.array(testData.iloc[:, :-1], dtype = float)\n",
    "y_test = testData.iloc[:, -1]\n",
    "\n",
    "print(\"Y from training data:\", y_train.shape)\n",
    "print(\"Y from validation data:\", y_val.shape)\n",
    "print(\"Y from test data:\", y_test.shape)\n"
   ]
  },
  {
   "cell_type": "code",
   "execution_count": 6,
   "metadata": {
    "colab": {
     "base_uri": "https://localhost:8080/",
     "height": 34
    },
    "colab_type": "code",
    "id": "S1o-OccqP5Ax",
    "outputId": "c93e0d6f-f5c0-4208-b0e5-7ecba885cddc"
   },
   "outputs": [
    {
     "name": "stdout",
     "output_type": "stream",
     "text": [
      "X from training data (1029, 25)\n",
      "X from validation data (441, 25)\n",
      "X from test data (30, 25)\n"
     ]
    }
   ],
   "source": [
    "#Normalizing the dataset\n",
    "from sklearn.preprocessing import StandardScaler\n",
    "import numpy as np\n",
    "scaler = StandardScaler()\n",
    "X_train = scaler.fit_transform( X_train )\n",
    "X_val = scaler.transform( X_val )\n",
    "X_test = scaler.transform( X_test )\n",
    "\n",
    "print(\"X from training data\", X_train.shape)\n",
    "print(\"X from validation data\", X_val.shape)\n",
    "print(\"X from test data\", X_test.shape)\n"
   ]
  },
  {
   "cell_type": "code",
   "execution_count": 7,
   "metadata": {
    "colab": {
     "base_uri": "https://localhost:8080/",
     "height": 203
    },
    "colab_type": "code",
    "id": "Q06tYXcdQZFp",
    "outputId": "8ab73b51-7592-450c-b152-8746e2f11b87"
   },
   "outputs": [
    {
     "name": "stderr",
     "output_type": "stream",
     "text": [
      "Using TensorFlow backend.\n"
     ]
    },
    {
     "name": "stdout",
     "output_type": "stream",
     "text": [
      "Train on 1029 samples, validate on 441 samples\n",
      "Epoch 1/50\n",
      "1029/1029 [==============================] - 0s 187us/step - loss: 2.1741 - accuracy: 0.2439 - val_loss: 1.5546 - val_accuracy: 0.7029\n",
      "Epoch 2/50\n",
      "1029/1029 [==============================] - 0s 31us/step - loss: 1.4414 - accuracy: 0.5384 - val_loss: 0.8647 - val_accuracy: 0.9274\n",
      "Epoch 3/50\n",
      "1029/1029 [==============================] - 0s 33us/step - loss: 0.9387 - accuracy: 0.6774 - val_loss: 0.3857 - val_accuracy: 0.9728\n",
      "Epoch 4/50\n",
      "1029/1029 [==============================] - 0s 37us/step - loss: 0.5667 - accuracy: 0.8066 - val_loss: 0.1855 - val_accuracy: 0.9751\n",
      "Epoch 5/50\n",
      "1029/1029 [==============================] - 0s 48us/step - loss: 0.4205 - accuracy: 0.8669 - val_loss: 0.1118 - val_accuracy: 0.9751\n",
      "Epoch 6/50\n",
      "1029/1029 [==============================] - 0s 42us/step - loss: 0.2702 - accuracy: 0.9145 - val_loss: 0.0831 - val_accuracy: 0.9773\n",
      "Epoch 7/50\n",
      "1029/1029 [==============================] - 0s 46us/step - loss: 0.2007 - accuracy: 0.9475 - val_loss: 0.0588 - val_accuracy: 0.9864\n",
      "Epoch 8/50\n",
      "1029/1029 [==============================] - 0s 60us/step - loss: 0.1665 - accuracy: 0.9582 - val_loss: 0.0507 - val_accuracy: 0.9887\n",
      "Epoch 9/50\n",
      "1029/1029 [==============================] - 0s 52us/step - loss: 0.1537 - accuracy: 0.9572 - val_loss: 0.0456 - val_accuracy: 0.9909\n",
      "Epoch 10/50\n",
      "1029/1029 [==============================] - 0s 56us/step - loss: 0.1288 - accuracy: 0.9611 - val_loss: 0.0438 - val_accuracy: 0.9909\n",
      "Epoch 11/50\n",
      "1029/1029 [==============================] - 0s 86us/step - loss: 0.1228 - accuracy: 0.9640 - val_loss: 0.0393 - val_accuracy: 0.9909\n",
      "Epoch 12/50\n",
      "1029/1029 [==============================] - 0s 56us/step - loss: 0.0626 - accuracy: 0.9864 - val_loss: 0.0326 - val_accuracy: 0.9887\n",
      "Epoch 13/50\n",
      "1029/1029 [==============================] - 0s 53us/step - loss: 0.0822 - accuracy: 0.9757 - val_loss: 0.0300 - val_accuracy: 0.9887\n",
      "Epoch 14/50\n",
      "1029/1029 [==============================] - 0s 49us/step - loss: 0.0931 - accuracy: 0.9708 - val_loss: 0.0316 - val_accuracy: 0.9909\n",
      "Epoch 00014: early stopping\n"
     ]
    }
   ],
   "source": [
    "#Creating a Model\n",
    "from keras import models\n",
    "from keras import layers\n",
    "import keras\n",
    "\n",
    "# model 1\n",
    "model = models.Sequential()\n",
    "model.add(layers.Dense(256, activation='relu', input_shape=(X_train.shape[1],)))\n",
    "model.add(layers.Dropout(0.5))\n",
    "model.add(layers.Dense(128, activation='relu'))\n",
    "model.add(layers.Dropout(0.5))\n",
    "model.add(layers.Dense(64, activation='relu'))\n",
    "model.add(layers.Dropout(0.5))\n",
    "model.add(layers.Dense(10, activation='softmax'))\n",
    "\n",
    "# Learning Process of a model\n",
    "model.compile(optimizer='adam',\n",
    "              loss='sparse_categorical_crossentropy',\n",
    "              metrics=['accuracy'])\n",
    "\n",
    "# simple early stopping\n",
    "from keras.callbacks import EarlyStopping\n",
    "\n",
    "es = EarlyStopping(monitor='val_loss', mode='min', verbose=1)\n",
    "\n",
    "#Train with early stopping to avoid overfitting\n",
    "history = model.fit(X_train,\n",
    "                    y_train,\n",
    "                    validation_data=(X_val, y_val),\n",
    "                    epochs=50,\n",
    "                    batch_size=128, \n",
    "                    callbacks=[es])"
   ]
  },
  {
   "cell_type": "code",
   "execution_count": 8,
   "metadata": {
    "colab": {
     "base_uri": "https://localhost:8080/",
     "height": 267
    },
    "colab_type": "code",
    "id": "z3nvtYKVa5HD",
    "outputId": "b858b37f-8e47-4cb4-a737-ef960246254b"
   },
   "outputs": [
    {
     "data": {
      "image/png": "[encoded data removed]",
      "text/plain": [
       "<Figure size 432x288 with 1 Axes>"
      ]
     },
     "metadata": {
      "needs_background": "light"
     },
     "output_type": "display_data"
    }
   ],
   "source": [
    "# plot training history\n",
    "from matplotlib import pyplot\n",
    "pyplot.plot(history.history['loss'], label='train')\n",
    "pyplot.plot(history.history['val_loss'], label='test')\n",
    "pyplot.legend()\n",
    "pyplot.show()"
   ]
  },
  {
   "cell_type": "markdown",
   "metadata": {},
   "source": [
    "### Auxiliary functions to show the results\n"
   ]
  },
  {
   "cell_type": "code",
   "execution_count": 9,
   "metadata": {},
   "outputs": [],
   "source": [
    "def getSpeaker(speaker):\n",
    "    speaker = str(speaker)\n",
    "    if speaker == \"0\":\n",
    "        return \"Jackson\"\n",
    "    elif speaker == \"1\":\n",
    "        return \"Nicola\"\n",
    "    elif speaker == \"2\":\n",
    "        return \"Theo\"\n",
    "    elif speaker == \"3\":\n",
    "        return \"Ankur\"\n",
    "    elif speaker == \"4\":\n",
    "        return \"Caroline\"\n",
    "    elif speaker == \"5\":\n",
    "        return \"Rodolfo\"\n",
    "    else: \n",
    "        speaker = \"Unknown\"\n",
    "        \n",
    "def printPrediction(X_data, y_data, printDigit):\n",
    "    print('\\n# Generate predictions')\n",
    "    for i in range(len(y_data)):\n",
    "        prediction = getSpeaker(model.predict_classes(X_data[i:i+1])[0])\n",
    "        speaker = getSpeaker(y_data[i])\n",
    "        if printDigit == True:\n",
    "            print(\"Number={0:d}, y={1:10s}- prediction={2:10s}- match={3}\".format(i, speaker, prediction, speaker==prediction))\n",
    "        else:\n",
    "            print(\"y={0:10s}- prediction={1:10s}- match={2}\".format(speaker, prediction, speaker==prediction))"
   ]
  },
  {
   "cell_type": "code",
   "execution_count": 10,
   "metadata": {},
   "outputs": [],
   "source": [
    "import numpy as np\n",
    "from keras import backend as K\n",
    "from keras.models import Sequential\n",
    "from keras.layers.core import Dense, Dropout, Activation, Flatten\n",
    "from keras.layers.convolutional import Convolution2D, MaxPooling2D\n",
    "from keras.preprocessing.image import ImageDataGenerator\n",
    "from sklearn.metrics import classification_report, confusion_matrix\n",
    "\n",
    "def report(X_data, y_data):\n",
    "    #Confution Matrix and Classification Report\n",
    "    Y_pred = model.predict_classes(X_data)\n",
    "    y_test_num = y_data.astype(np.int64)\n",
    "    conf_mt = confusion_matrix(y_test_num, Y_pred)\n",
    "    print(conf_mt)\n",
    "    plt.matshow(conf_mt)\n",
    "    plt.show()\n",
    "    print('\\nClassification Report')\n",
    "    target_names = [\"Jackson\", \"Nicola\", \"Theo\", \"Ankur\", \"Caroline\", \"Rodolfo\", \"Unknown\"]\n",
    "    print(classification_report(y_test_num, Y_pred))\n"
   ]
  },
  {
   "cell_type": "code",
   "execution_count": null,
   "metadata": {},
   "outputs": [],
   "source": []
  },
  {
   "cell_type": "markdown",
   "metadata": {},
   "source": [
    "### Present the model performance"
   ]
  },
  {
   "cell_type": "code",
   "execution_count": 11,
   "metadata": {
    "colab": {
     "base_uri": "https://localhost:8080/",
     "height": 86
    },
    "colab_type": "code",
    "id": "HSVxu84pRgZa",
    "outputId": "eb9242c9-7bff-4d54-a58c-60a915aad7d2"
   },
   "outputs": [
    {
     "name": "stdout",
     "output_type": "stream",
     "text": [
      "\n",
      "# TEST DATA #\n",
      "\n",
      "30/30 [==============================] - 0s 33us/step\n",
      "accuracy: 100.00%\n",
      "\n",
      "# Generate predictions\n",
      "y=Jackson   - prediction=Jackson   - match=True\n",
      "y=Nicola    - prediction=Nicola    - match=True\n",
      "y=Theo      - prediction=Theo      - match=True\n",
      "y=Jackson   - prediction=Jackson   - match=True\n",
      "y=Nicola    - prediction=Nicola    - match=True\n",
      "y=Theo      - prediction=Theo      - match=True\n",
      "y=Jackson   - prediction=Jackson   - match=True\n",
      "y=Nicola    - prediction=Nicola    - match=True\n",
      "y=Theo      - prediction=Theo      - match=True\n",
      "y=Jackson   - prediction=Jackson   - match=True\n"
     ]
    }
   ],
   "source": [
    "print('\\n# TEST DATA #\\n')\n",
    "score = model.evaluate(X_test, y_test)\n",
    "print(\"%s: %.2f%%\" % (model.metrics_names[1], score[1]*100))\n",
    "\n",
    "# Prediction\n",
    "printPrediction(X_test[0:10], y_test[0:10], False)"
   ]
  },
  {
   "cell_type": "code",
   "execution_count": 12,
   "metadata": {},
   "outputs": [
    {
     "name": "stdout",
     "output_type": "stream",
     "text": [
      "Classification Report for Test Data\n",
      "\n",
      "[[10  0  0]\n",
      " [ 0 10  0]\n",
      " [ 0  0 10]]\n"
     ]
    },
    {
     "data": {
      "image/png": "[encoded data removed]",
      "text/plain": [
       "<Figure size 288x288 with 1 Axes>"
      ]
     },
     "metadata": {
      "needs_background": "light"
     },
     "output_type": "display_data"
    },
    {
     "name": "stdout",
     "output_type": "stream",
     "text": [
      "\n",
      "Classification Report\n",
      "              precision    recall  f1-score   support\n",
      "\n",
      "           0       1.00      1.00      1.00        10\n",
      "           1       1.00      1.00      1.00        10\n",
      "           2       1.00      1.00      1.00        10\n",
      "\n",
      "    accuracy                           1.00        30\n",
      "   macro avg       1.00      1.00      1.00        30\n",
      "weighted avg       1.00      1.00      1.00        30\n",
      "\n"
     ]
    }
   ],
   "source": [
    "print(\"Classification Report for Test Data\\n\")\n",
    "report(X_test, y_test)\n"
   ]
  },
  {
   "cell_type": "code",
   "execution_count": null,
   "metadata": {},
   "outputs": [],
   "source": []
  },
  {
   "cell_type": "markdown",
   "metadata": {},
   "source": [
    "## Section 3\n",
    "\n",
    "There are 50 recordings for each digit for each speaker: Jackson, Nicolas and Theo (total 1500 recordings)\n",
    "Training data has 49 recordings for each digit for each speaker: 1470 recordings total.\n",
    "Test data has 1 recordings for each digit for each speaker: 30 recordings total.\n",
    "\n",
    "In addition, there are 2 recordings for each digit for each speaker: Ankur, Caroline and Rodolfo (total 60 recordings)\n",
    "This addition training data has 1 recordings for each digit for each speaker: 30 recordings total.\n",
    "This addition test data has 1 recordings for each digit for each speaker: 30 recordings total.\n",
    "\n",
    "Therefore the full data set has:\n",
    "* Training: 1500 recordings\n",
    "* Training: 60 recordings\n",
    "\n",
    "The data used here comes from the recordings stored in:\n",
    "* ../data/recordings/train\n",
    "* ../data/recordings/test\n",
    "* ../data/recordings/moreSpeakersTrain\n",
    "* ../data/recordings/moreSpeakersTest"
   ]
  },
  {
   "cell_type": "code",
   "execution_count": null,
   "metadata": {},
   "outputs": [],
   "source": []
  },
  {
   "cell_type": "code",
   "execution_count": 13,
   "metadata": {},
   "outputs": [
    {
     "name": "stdout",
     "output_type": "stream",
     "text": [
      "Y from training data: (1050,)\n",
      "Y from validation data: (450,)\n",
      "Y from test data: (30,)\n",
      "Y from other speakers test data: (30,)\n"
     ]
    }
   ],
   "source": [
    "# Splitting the dataset into training, validation and testing dataset\n",
    "from sklearn.model_selection import train_test_split\n",
    "\n",
    "fullTrainData = trainData.append(moreTrainData)\n",
    "\n",
    "X = np.array(fullTrainData.iloc[:, :-1], dtype = float)\n",
    "y = fullTrainData.iloc[:, -1]\n",
    "X_train, X_val, y_train, y_val = train_test_split(X, y, test_size=0.3, random_state=42)\n",
    "\n",
    "X_test = np.array(testData.iloc[:, :-1], dtype = float)\n",
    "y_test = testData.iloc[:, -1]\n",
    "\n",
    "X_more_test = np.array(moreTestData.iloc[:, :-1], dtype = float)\n",
    "y_more_test = moreTestData.iloc[:, -1]\n",
    "\n",
    "print(\"Y from training data:\", y_train.shape)\n",
    "print(\"Y from validation data:\", y_val.shape)\n",
    "print(\"Y from test data:\", y_test.shape)\n",
    "print(\"Y from other speakers test data:\", y_more_test.shape)\n"
   ]
  },
  {
   "cell_type": "code",
   "execution_count": 14,
   "metadata": {},
   "outputs": [
    {
     "name": "stdout",
     "output_type": "stream",
     "text": [
      "X from training data (1050, 25)\n",
      "X from validation data (450, 25)\n",
      "X from test data (30, 25)\n",
      "X from other speakers test data (30, 25)\n"
     ]
    }
   ],
   "source": [
    "#Normalizing the dataset\n",
    "from sklearn.preprocessing import StandardScaler\n",
    "import numpy as np\n",
    "scaler = StandardScaler()\n",
    "X_train = scaler.fit_transform( X_train )\n",
    "X_val = scaler.transform( X_val )\n",
    "X_test = scaler.transform( X_test )\n",
    "X_more_test = scaler.transform( X_more_test )\n",
    "\n",
    "print(\"X from training data\", X_train.shape)\n",
    "print(\"X from validation data\", X_val.shape)\n",
    "print(\"X from test data\", X_test.shape)\n",
    "print(\"X from other speakers test data\", X_more_test.shape)\n"
   ]
  },
  {
   "cell_type": "code",
   "execution_count": 15,
   "metadata": {},
   "outputs": [
    {
     "name": "stdout",
     "output_type": "stream",
     "text": [
      "Train on 1050 samples, validate on 450 samples\n",
      "Epoch 1/50\n",
      "1050/1050 [==============================] - 0s 176us/step - loss: 2.0021 - accuracy: 0.2886 - val_loss: 1.4814 - val_accuracy: 0.8289\n",
      "Epoch 2/50\n",
      "1050/1050 [==============================] - 0s 30us/step - loss: 1.3657 - accuracy: 0.5495 - val_loss: 0.9358 - val_accuracy: 0.9111\n",
      "Epoch 3/50\n",
      "1050/1050 [==============================] - 0s 30us/step - loss: 0.9921 - accuracy: 0.6943 - val_loss: 0.6088 - val_accuracy: 0.9378\n",
      "Epoch 4/50\n",
      "1050/1050 [==============================] - 0s 31us/step - loss: 0.7191 - accuracy: 0.8000 - val_loss: 0.3982 - val_accuracy: 0.9400\n",
      "Epoch 5/50\n",
      "1050/1050 [==============================] - 0s 36us/step - loss: 0.5295 - accuracy: 0.8667 - val_loss: 0.2920 - val_accuracy: 0.9489\n",
      "Epoch 6/50\n",
      "1050/1050 [==============================] - 0s 32us/step - loss: 0.3837 - accuracy: 0.9105 - val_loss: 0.2339 - val_accuracy: 0.9533\n",
      "Epoch 7/50\n",
      "1050/1050 [==============================] - 0s 34us/step - loss: 0.3030 - accuracy: 0.9229 - val_loss: 0.1947 - val_accuracy: 0.9556\n",
      "Epoch 8/50\n",
      "1050/1050 [==============================] - 0s 34us/step - loss: 0.2402 - accuracy: 0.9495 - val_loss: 0.1559 - val_accuracy: 0.9578\n",
      "Epoch 9/50\n",
      "1050/1050 [==============================] - 0s 36us/step - loss: 0.2211 - accuracy: 0.9524 - val_loss: 0.1291 - val_accuracy: 0.9622\n",
      "Epoch 10/50\n",
      "1050/1050 [==============================] - 0s 37us/step - loss: 0.1796 - accuracy: 0.9524 - val_loss: 0.1190 - val_accuracy: 0.9644\n",
      "Epoch 11/50\n",
      "1050/1050 [==============================] - 0s 36us/step - loss: 0.1548 - accuracy: 0.9629 - val_loss: 0.1083 - val_accuracy: 0.9644\n",
      "Epoch 12/50\n",
      "1050/1050 [==============================] - 0s 35us/step - loss: 0.1522 - accuracy: 0.9667 - val_loss: 0.0997 - val_accuracy: 0.9689\n",
      "Epoch 13/50\n",
      "1050/1050 [==============================] - 0s 36us/step - loss: 0.1574 - accuracy: 0.9590 - val_loss: 0.0904 - val_accuracy: 0.9733\n",
      "Epoch 14/50\n",
      "1050/1050 [==============================] - 0s 35us/step - loss: 0.1350 - accuracy: 0.9667 - val_loss: 0.0844 - val_accuracy: 0.9733\n",
      "Epoch 15/50\n",
      "1050/1050 [==============================] - 0s 37us/step - loss: 0.1133 - accuracy: 0.9733 - val_loss: 0.0812 - val_accuracy: 0.9733\n",
      "Epoch 16/50\n",
      "1050/1050 [==============================] - 0s 36us/step - loss: 0.1086 - accuracy: 0.9714 - val_loss: 0.0767 - val_accuracy: 0.9733\n",
      "Epoch 17/50\n",
      "1050/1050 [==============================] - 0s 34us/step - loss: 0.1026 - accuracy: 0.9762 - val_loss: 0.0718 - val_accuracy: 0.9756\n",
      "Epoch 18/50\n",
      "1050/1050 [==============================] - 0s 35us/step - loss: 0.0946 - accuracy: 0.9695 - val_loss: 0.0697 - val_accuracy: 0.9756\n",
      "Epoch 19/50\n",
      "1050/1050 [==============================] - 0s 37us/step - loss: 0.0793 - accuracy: 0.9705 - val_loss: 0.0678 - val_accuracy: 0.9756\n",
      "Epoch 20/50\n",
      "1050/1050 [==============================] - 0s 38us/step - loss: 0.0859 - accuracy: 0.9743 - val_loss: 0.0621 - val_accuracy: 0.9800\n",
      "Epoch 21/50\n",
      "1050/1050 [==============================] - 0s 33us/step - loss: 0.0705 - accuracy: 0.9752 - val_loss: 0.0591 - val_accuracy: 0.9800\n",
      "Epoch 22/50\n",
      "1050/1050 [==============================] - 0s 37us/step - loss: 0.0796 - accuracy: 0.9771 - val_loss: 0.0572 - val_accuracy: 0.9800\n",
      "Epoch 23/50\n",
      "1050/1050 [==============================] - 0s 35us/step - loss: 0.0750 - accuracy: 0.9733 - val_loss: 0.0522 - val_accuracy: 0.9822\n",
      "Epoch 24/50\n",
      "1050/1050 [==============================] - 0s 35us/step - loss: 0.0571 - accuracy: 0.9838 - val_loss: 0.0496 - val_accuracy: 0.9822\n",
      "Epoch 25/50\n",
      "1050/1050 [==============================] - 0s 38us/step - loss: 0.0567 - accuracy: 0.9800 - val_loss: 0.0478 - val_accuracy: 0.9844\n",
      "Epoch 26/50\n",
      "1050/1050 [==============================] - 0s 40us/step - loss: 0.0463 - accuracy: 0.9857 - val_loss: 0.0455 - val_accuracy: 0.9867\n",
      "Epoch 27/50\n",
      "1050/1050 [==============================] - 0s 40us/step - loss: 0.0643 - accuracy: 0.9800 - val_loss: 0.0455 - val_accuracy: 0.9844\n",
      "Epoch 28/50\n",
      "1050/1050 [==============================] - ETA: 0s - loss: 0.0536 - accuracy: 0.98 - 0s 40us/step - loss: 0.0599 - accuracy: 0.9819 - val_loss: 0.0475 - val_accuracy: 0.9867\n",
      "Epoch 00028: early stopping\n"
     ]
    }
   ],
   "source": [
    "#Creating a Model\n",
    "from keras import models\n",
    "from keras import layers\n",
    "import keras\n",
    "\n",
    "# model 1\n",
    "model = models.Sequential()\n",
    "model.add(layers.Dense(256, activation='relu', input_shape=(X_train.shape[1],)))\n",
    "model.add(layers.Dropout(0.5))\n",
    "model.add(layers.Dense(128, activation='relu'))\n",
    "model.add(layers.Dropout(0.5))\n",
    "model.add(layers.Dense(64, activation='relu'))\n",
    "model.add(layers.Dropout(0.5))\n",
    "model.add(layers.Dense(10, activation='softmax'))\n",
    "\n",
    "# Learning Process of a model\n",
    "model.compile(optimizer='adam',\n",
    "              loss='sparse_categorical_crossentropy',\n",
    "              metrics=['accuracy'])\n",
    "\n",
    "# simple early stopping\n",
    "from keras.callbacks import EarlyStopping\n",
    "\n",
    "es = EarlyStopping(monitor='val_loss', mode='min', verbose=1)\n",
    "\n",
    "#Train with early stopping to avoid overfitting\n",
    "history = model.fit(X_train,\n",
    "                    y_train,\n",
    "                    validation_data=(X_val, y_val),\n",
    "                    epochs=50,\n",
    "                    batch_size=128, \n",
    "                    callbacks=[es])"
   ]
  },
  {
   "cell_type": "code",
   "execution_count": 16,
   "metadata": {},
   "outputs": [
    {
     "data": {
      "image/png": "[encoded data removed]",
      "text/plain": [
       "<Figure size 432x288 with 1 Axes>"
      ]
     },
     "metadata": {
      "needs_background": "light"
     },
     "output_type": "display_data"
    }
   ],
   "source": [
    "# plot training history\n",
    "from matplotlib import pyplot\n",
    "pyplot.plot(history.history['loss'], label='train')\n",
    "pyplot.plot(history.history['val_loss'], label='test')\n",
    "pyplot.legend()\n",
    "pyplot.show()"
   ]
  },
  {
   "cell_type": "markdown",
   "metadata": {},
   "source": [
    "### Present the model performance"
   ]
  },
  {
   "cell_type": "code",
   "execution_count": 17,
   "metadata": {},
   "outputs": [
    {
     "name": "stdout",
     "output_type": "stream",
     "text": [
      "\n",
      "# TEST DATA #\n",
      "\n",
      "30/30 [==============================] - 0s 33us/step\n",
      "accuracy: 100.00%\n",
      "\n",
      "# Generate predictions\n",
      "y=Jackson   - prediction=Jackson   - match=True\n",
      "y=Nicola    - prediction=Nicola    - match=True\n",
      "y=Theo      - prediction=Theo      - match=True\n",
      "y=Jackson   - prediction=Jackson   - match=True\n",
      "y=Nicola    - prediction=Nicola    - match=True\n",
      "y=Theo      - prediction=Theo      - match=True\n",
      "y=Jackson   - prediction=Jackson   - match=True\n",
      "y=Nicola    - prediction=Nicola    - match=True\n",
      "y=Theo      - prediction=Theo      - match=True\n",
      "y=Jackson   - prediction=Jackson   - match=True\n"
     ]
    }
   ],
   "source": [
    "print('\\n# TEST DATA #\\n')\n",
    "score = model.evaluate(X_test, y_test)\n",
    "print(\"%s: %.2f%%\" % (model.metrics_names[1], score[1]*100))\n",
    "\n",
    "# Prediction\n",
    "printPrediction(X_test[0:10], y_test[0:10], False)"
   ]
  },
  {
   "cell_type": "code",
   "execution_count": 18,
   "metadata": {},
   "outputs": [
    {
     "name": "stdout",
     "output_type": "stream",
     "text": [
      "\n",
      "# OTHER SPEAKERS DATA #\n",
      "\n",
      "30/30 [==============================] - 0s 33us/step\n",
      "accuracy: 60.00%\n",
      "\n",
      "# Generate predictions\n",
      "y=Ankur     - prediction=Ankur     - match=True\n",
      "y=Caroline  - prediction=Caroline  - match=True\n",
      "y=Rodolfo   - prediction=Caroline  - match=False\n",
      "y=Ankur     - prediction=Ankur     - match=True\n",
      "y=Caroline  - prediction=Caroline  - match=True\n",
      "y=Rodolfo   - prediction=Rodolfo   - match=True\n",
      "y=Ankur     - prediction=Ankur     - match=True\n",
      "y=Caroline  - prediction=Caroline  - match=True\n",
      "y=Rodolfo   - prediction=Caroline  - match=False\n",
      "y=Ankur     - prediction=Ankur     - match=True\n"
     ]
    }
   ],
   "source": [
    "print('\\n# OTHER SPEAKERS DATA #\\n')\n",
    "score = model.evaluate(X_more_test, y_more_test)\n",
    "print(\"%s: %.2f%%\" % (model.metrics_names[1], score[1]*100))\n",
    "\n",
    "# Prediction\n",
    "printPrediction(X_more_test[0:10], y_more_test[0:10], False)\n"
   ]
  },
  {
   "cell_type": "code",
   "execution_count": 19,
   "metadata": {},
   "outputs": [
    {
     "name": "stdout",
     "output_type": "stream",
     "text": [
      "Classification Report for Test Data\n",
      "\n",
      "[[10  0  0]\n",
      " [ 0 10  0]\n",
      " [ 0  0 10]]\n"
     ]
    },
    {
     "data": {
      "image/png": "[encoded data removed]",
      "text/plain": [
       "<Figure size 288x288 with 1 Axes>"
      ]
     },
     "metadata": {
      "needs_background": "light"
     },
     "output_type": "display_data"
    },
    {
     "name": "stdout",
     "output_type": "stream",
     "text": [
      "\n",
      "Classification Report\n",
      "              precision    recall  f1-score   support\n",
      "\n",
      "           0       1.00      1.00      1.00        10\n",
      "           1       1.00      1.00      1.00        10\n",
      "           2       1.00      1.00      1.00        10\n",
      "\n",
      "    accuracy                           1.00        30\n",
      "   macro avg       1.00      1.00      1.00        30\n",
      "weighted avg       1.00      1.00      1.00        30\n",
      "\n",
      "Classification Report for Other Speakers\n",
      "\n",
      "[[ 0  0  0  0]\n",
      " [ 0 10  0  0]\n",
      " [ 2  1  7  0]\n",
      " [ 1  1  7  1]]\n"
     ]
    },
    {
     "data": {
      "image/png": "[encoded data removed]",
      "text/plain": [
       "<Figure size 288x288 with 1 Axes>"
      ]
     },
     "metadata": {
      "needs_background": "light"
     },
     "output_type": "display_data"
    },
    {
     "name": "stdout",
     "output_type": "stream",
     "text": [
      "\n",
      "Classification Report\n",
      "              precision    recall  f1-score   support\n",
      "\n",
      "           0       0.00      0.00      0.00         0\n",
      "           3       0.83      1.00      0.91        10\n",
      "           4       0.50      0.70      0.58        10\n",
      "           5       1.00      0.10      0.18        10\n",
      "\n",
      "    accuracy                           0.60        30\n",
      "   macro avg       0.58      0.45      0.42        30\n",
      "weighted avg       0.78      0.60      0.56        30\n",
      "\n"
     ]
    },
    {
     "name": "stderr",
     "output_type": "stream",
     "text": [
      "c:\\users\\erodvas\\env\\lib\\site-packages\\sklearn\\metrics\\classification.py:1439: UndefinedMetricWarning: Recall and F-score are ill-defined and being set to 0.0 in labels with no true samples.\n",
      "  'recall', 'true', average, warn_for)\n"
     ]
    }
   ],
   "source": [
    "print(\"Classification Report for Test Data\\n\")\n",
    "report(X_test, y_test)\n",
    "\n",
    "print(\"Classification Report for Other Speakers\\n\")\n",
    "report(X_more_test, y_more_test)\n"
   ]
  },
  {
   "cell_type": "code",
   "execution_count": null,
   "metadata": {},
   "outputs": [],
   "source": []
  }
 ],
 "metadata": {
  "accelerator": "GPU",
  "colab": {
   "name": "sound-regnize-Keras.ipynb",
   "provenance": []
  },
  "kernelspec": {
   "display_name": "Python 3",
   "language": "python",
   "name": "python3"
  },
  "language_info": {
   "codemirror_mode": {
    "name": "ipython",
    "version": 3
   },
   "file_extension": ".py",
   "mimetype": "text/x-python",
   "name": "python",
   "nbconvert_exporter": "python",
   "pygments_lexer": "ipython3",
   "version": "3.6.8"
  }
 },
 "nbformat": 4,
 "nbformat_minor": 1
}
